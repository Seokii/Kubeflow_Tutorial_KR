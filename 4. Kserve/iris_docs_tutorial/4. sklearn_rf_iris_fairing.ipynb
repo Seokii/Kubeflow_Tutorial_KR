{
 "cells": [
  {
   "cell_type": "code",
   "execution_count": 1,
   "id": "39e0f1c1-707a-4896-8f86-64ef57aa3d94",
   "metadata": {},
   "outputs": [
    {
     "name": "stderr",
     "output_type": "stream",
     "text": [
      "[W 230110 18:19:15 utils:50] The function mounting_pvc has been deprecated,                     please use `volume_mounts`\n",
      "[I 230110 18:19:15 config:134] Using preprocessor: <kubeflow.fairing.preprocessors.base.BasePreProcessor object at 0x7fa9c823b2e0>\n",
      "[I 230110 18:19:15 config:136] Using builder: <kubeflow.fairing.builders.cluster.cluster.ClusterBuilder object at 0x7fa938bf75b0>\n",
      "[I 230110 18:19:15 config:138] Using deployer: <kubeflow.fairing.deployers.job.job.Job object at 0x7fa93cfc5e20>\n",
      "[I 230110 18:19:15 cluster:46] Building image using cluster builder.\n",
      "[I 230110 18:19:15 base:107] Creating docker context: /tmp/fairing_context_ivpdkdch\n",
      "[W 230110 18:19:17 manager:298] Waiting for fairing-builder-rk2kp-4wfk9 to start...\n",
      "[W 230110 18:19:17 manager:298] Waiting for fairing-builder-rk2kp-4wfk9 to start...\n",
      "[W 230110 18:19:17 manager:298] Waiting for fairing-builder-rk2kp-4wfk9 to start...\n",
      "[I 230110 18:19:18 manager:303] Pod started running True\n"
     ]
    },
    {
     "name": "stdout",
     "output_type": "stream",
     "text": [
      "\u001b[36mINFO\u001b[0m[0001] Retrieving image manifest python:3.8.5\n",
      "\u001b[36mINFO\u001b[0m[0003] Retrieving image manifest python:3.8.5\n",
      "\u001b[36mINFO\u001b[0m[0005] Built cross stage deps: map[]\n",
      "\u001b[36mINFO\u001b[0m[0005] Retrieving image manifest python:3.8.5\n",
      "\u001b[36mINFO\u001b[0m[0006] Retrieving image manifest python:3.8.5\n",
      "\u001b[36mINFO\u001b[0m[0008] Executing 0 build triggers\n",
      "\u001b[36mINFO\u001b[0m[0008] Unpacking rootfs as cmd RUN pip install scikit-learn==1.2.0 joblib requires it.\n",
      "\u001b[36mINFO\u001b[0m[0040] Taking snapshot of full filesystem...\n",
      "\u001b[36mINFO\u001b[0m[0041] Resolving 31140 paths\n",
      "\u001b[36mINFO\u001b[0m[0042] RUN pip install scikit-learn==1.2.0 joblib\n",
      "\u001b[36mINFO\u001b[0m[0042] cmd: /bin/sh\n",
      "\u001b[36mINFO\u001b[0m[0042] args: [-c pip install scikit-learn==1.2.0 joblib]\n",
      "\u001b[36mINFO\u001b[0m[0042] Running: [/bin/sh -c pip install scikit-learn==1.2.0 joblib]\n",
      "Collecting scikit-learn==1.2.0\n",
      "  Downloading scikit_learn-1.2.0-cp38-cp38-manylinux_2_17_x86_64.manylinux2014_x86_64.whl (9.7 MB)\n",
      "Collecting joblib\n",
      "  Downloading joblib-1.2.0-py3-none-any.whl (297 kB)\n",
      "Collecting threadpoolctl>=2.0.0\n",
      "  Downloading threadpoolctl-3.1.0-py3-none-any.whl (14 kB)\n",
      "Collecting scipy>=1.3.2\n",
      "  Downloading scipy-1.10.0-cp38-cp38-manylinux_2_17_x86_64.manylinux2014_x86_64.whl (34.5 MB)\n",
      "Collecting numpy>=1.17.3\n",
      "  Downloading numpy-1.24.1-cp38-cp38-manylinux_2_17_x86_64.manylinux2014_x86_64.whl (17.3 MB)\n",
      "Installing collected packages: threadpoolctl, joblib, numpy, scipy, scikit-learn\n",
      "Successfully installed joblib-1.2.0 numpy-1.24.1 scikit-learn-1.2.0 scipy-1.10.0 threadpoolctl-3.1.0\n",
      "WARNING: You are using pip version 20.2.3; however, version 22.3.1 is available.\n",
      "You should consider upgrading via the '/usr/local/bin/python -m pip install --upgrade pip' command.\n",
      "\u001b[36mINFO\u001b[0m[0053] Using files from context: [/kaniko/buildcontext/sklearn_rf_iris.py]\n",
      "\u001b[36mINFO\u001b[0m[0053] ADD sklearn_rf_iris.py /\n",
      "\u001b[36mINFO\u001b[0m[0053] Taking snapshot of full filesystem...\n",
      "\u001b[36mINFO\u001b[0m[0053] Resolving 37059 paths\n"
     ]
    },
    {
     "name": "stderr",
     "output_type": "stream",
     "text": [
      "[W 230110 18:20:40 job:101] The job sklearn-rf-iris-d1b3 launched.\n",
      "[W 230110 18:20:42 manager:298] Waiting for sklearn-rf-iris-d1b3-trlf7 to start...\n",
      "[W 230110 18:20:46 manager:298] Waiting for sklearn-rf-iris-d1b3-trlf7 to start...\n",
      "[W 230110 18:20:46 manager:298] Waiting for sklearn-rf-iris-d1b3-trlf7 to start...\n",
      "[I 230110 18:21:37 manager:303] Pod started running True\n"
     ]
    },
    {
     "data": {
      "text/plain": [
       "(<kubeflow.fairing.preprocessors.base.BasePreProcessor at 0x7fa9c823b2e0>,\n",
       " <kubeflow.fairing.builders.cluster.cluster.ClusterBuilder at 0x7fa938bf75b0>,\n",
       " <kubeflow.fairing.deployers.job.job.Job at 0x7fa93cfc5e20>)"
      ]
     },
     "execution_count": 1,
     "metadata": {},
     "output_type": "execute_result"
    }
   ],
   "source": [
    "import uuid\n",
    "from kubeflow import fairing\n",
    "from kubeflow.fairing.kubernetes import utils as k8s_utils\n",
    "\n",
    "# docker hub username\n",
    "CONTAINER_REGISTRY = 'seokii'\n",
    "\n",
    "# namespace\n",
    "namespace = 'kubeflow-user-example-com'\n",
    "\n",
    "# job name 지정\n",
    "job_name = f'sklearn-rf-iris-{uuid.uuid4().hex[:4]}'\n",
    "\n",
    "# command 정의\n",
    "command=[\"python\", \"sklearn_rf_iris.py\", \"--model_path\", \"/mnt/pv/models/sklearn/iris\"]\n",
    "\n",
    "# output_map 정의\n",
    "output_map = {\n",
    "    \"Dockerfile\": \"Dockerfile\",\n",
    "    \"sklearn_rf_iris.py\": \"sklearn_rf_iris.py\"\n",
    "}\n",
    "\n",
    "# fairing 전처리기\n",
    "fairing.config.set_preprocessor('python', command=command, path_prefix=\"/\", output_map=output_map)\n",
    "\n",
    "# cluster builder ContextSource를 minio로 정의\n",
    "s3_endpoint = 'minio-service.kubeflow.svc.cluster.local:9000'\n",
    "minio_endpoint = \"http://\"+s3_endpoint\n",
    "minio_username = \"minio\"\n",
    "minio_key = \"minio123\"\n",
    "minio_region = \"us-east-1\"\n",
    "\n",
    "# minio_context사용\n",
    "from kubeflow.fairing.builders.cluster.minio_context import MinioContextSource\n",
    "minio_context_source = MinioContextSource(endpoint_url=minio_endpoint, minio_secret=minio_username, minio_secret_key=minio_key, region_name=minio_region)\n",
    "\n",
    "# fairing 빌더\n",
    "fairing.config.set_builder('cluster', registry=CONTAINER_REGISTRY, image_name=\"sklearn_rf_iris\", dockerfile_path=\"Dockerfile\",\n",
    "                          context_source=minio_context_source)\n",
    "\n",
    "# fairing 배포\n",
    "fairing.config.set_deployer('job', namespace=namespace, job_name=job_name,\n",
    "                            pod_spec_mutators=[k8s_utils.mounting_pvc(pvc_name='kserve-models-pvc', pvc_mount_path='/mnt/pv')],\n",
    "                            cleanup=False, stream_log=True)\n",
    "fairing.config.run()"
   ]
  }
 ],
 "metadata": {
  "kernelspec": {
   "display_name": "Python 3 (ipykernel)",
   "language": "python",
   "name": "python3"
  },
  "language_info": {
   "codemirror_mode": {
    "name": "ipython",
    "version": 3
   },
   "file_extension": ".py",
   "mimetype": "text/x-python",
   "name": "python",
   "nbconvert_exporter": "python",
   "pygments_lexer": "ipython3",
   "version": "3.8.10"
  }
 },
 "nbformat": 4,
 "nbformat_minor": 5
}
