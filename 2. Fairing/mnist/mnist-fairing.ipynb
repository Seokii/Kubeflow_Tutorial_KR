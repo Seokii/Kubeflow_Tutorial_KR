{
 "cells": [
  {
   "cell_type": "code",
   "execution_count": 2,
   "id": "5ec675ac-42d6-49f8-b765-4a8daba540be",
   "metadata": {},
   "outputs": [
    {
     "name": "stderr",
     "output_type": "stream",
     "text": [
      "[I 230107 08:24:14 config:134] Using preprocessor: <kubeflow.fairing.preprocessors.base.BasePreProcessor object at 0x7fc67416e130>\n",
      "[I 230107 08:24:14 config:136] Using builder: <kubeflow.fairing.builders.cluster.cluster.ClusterBuilder object at 0x7fc67419e4f0>\n",
      "[I 230107 08:24:14 config:138] Using deployer: <kubeflow.fairing.deployers.job.job.Job object at 0x7fc67419e2e0>\n",
      "[I 230107 08:24:14 cluster:46] Building image using cluster builder.\n",
      "[I 230107 08:24:14 base:107] Creating docker context: /tmp/fairing_context_f4w0023b\n",
      "[W 230107 08:24:15 manager:298] Waiting for fairing-builder-zdq7g-tnjkj to start...\n",
      "[W 230107 08:24:15 manager:298] Waiting for fairing-builder-zdq7g-tnjkj to start...\n",
      "[W 230107 08:24:15 manager:298] Waiting for fairing-builder-zdq7g-tnjkj to start...\n",
      "[I 230107 08:24:16 manager:303] Pod started running True\n"
     ]
    },
    {
     "name": "stdout",
     "output_type": "stream",
     "text": [
      "\u001b[36mINFO\u001b[0m[0001] Retrieving image manifest tensorflow/tensorflow:2.1.0-py3\n",
      "\u001b[36mINFO\u001b[0m[0003] Retrieving image manifest tensorflow/tensorflow:2.1.0-py3\n",
      "\u001b[36mINFO\u001b[0m[0005] Built cross stage deps: map[]\n",
      "\u001b[36mINFO\u001b[0m[0005] Retrieving image manifest tensorflow/tensorflow:2.1.0-py3\n",
      "\u001b[36mINFO\u001b[0m[0006] Retrieving image manifest tensorflow/tensorflow:2.1.0-py3\n",
      "\u001b[36mINFO\u001b[0m[0007] Executing 0 build triggers\n",
      "\u001b[36mINFO\u001b[0m[0007] Unpacking rootfs as cmd RUN mkdir -p /app requires it.\n",
      "\u001b[36mINFO\u001b[0m[0115] Taking snapshot of full filesystem...\n",
      "\u001b[36mINFO\u001b[0m[0115] Resolving 28020 paths\n",
      "\u001b[36mINFO\u001b[0m[0117] RUN mkdir -p /app\n",
      "\u001b[36mINFO\u001b[0m[0117] cmd: /bin/sh\n",
      "\u001b[36mINFO\u001b[0m[0117] args: [-c mkdir -p /app]\n",
      "\u001b[36mINFO\u001b[0m[0117] Running: [/bin/sh -c mkdir -p /app]\n",
      "\u001b[36mINFO\u001b[0m[0117] Using files from context: [/kaniko/buildcontext/train.py]\n",
      "\u001b[36mINFO\u001b[0m[0117] ADD train.py /app/\n",
      "\u001b[36mINFO\u001b[0m[0117] Taking snapshot of full filesystem...\n",
      "\u001b[36mINFO\u001b[0m[0117] Resolving 28022 paths\n"
     ]
    },
    {
     "name": "stderr",
     "output_type": "stream",
     "text": [
      "[W 230107 08:26:20 job:101] The job mnist-job-b53b launched.\n",
      "[W 230107 08:26:21 manager:298] Waiting for mnist-job-b53b-gcpx8 to start...\n",
      "[W 230107 08:26:21 manager:298] Waiting for mnist-job-b53b-gcpx8 to start...\n",
      "[W 230107 08:26:21 manager:298] Waiting for mnist-job-b53b-gcpx8 to start...\n",
      "[I 230107 08:28:17 manager:303] Pod started running True\n"
     ]
    },
    {
     "name": "stdout",
     "output_type": "stream",
     "text": [
      "2023-01-07 08:28:17.562499: W tensorflow/stream_executor/platform/default/dso_loader.cc:55] Could not load dynamic library 'libnvinfer.so.6'; dlerror: libnvinfer.so.6: cannot open shared object file: No such file or directory\n",
      "2023-01-07 08:28:17.562556: W tensorflow/stream_executor/platform/default/dso_loader.cc:55] Could not load dynamic library 'libnvinfer_plugin.so.6'; dlerror: libnvinfer_plugin.so.6: cannot open shared object file: No such file or directory\n",
      "2023-01-07 08:28:17.562561: W tensorflow/compiler/tf2tensorrt/utils/py_utils.cc:30] Cannot dlopen some TensorRT libraries. If you would like to use Nvidia GPU with TensorRT, please make sure the missing libraries mentioned above are installed properly.\n",
      "TensorFlow version:  2.1.0\n",
      "Downloading data from https://storage.googleapis.com/tensorflow/tf-keras-datasets/mnist.npz\n",
      " 4554752/11490434 [==========>...................] - ETA: \n",
      " 9011200/11490434 [======================>.......] - ETA: 0\n",
      "11493376/11490434 [==============================] - 1s 0us/step\n",
      "2023-01-07 08:28:19.599151: W tensorflow/stream_executor/platform/default/dso_loader.cc:55] Could not load dynamic library 'libcuda.so.1'; dlerror: libcuda.so.1: cannot open shared object file: No such file or directory\n",
      "2023-01-07 08:28:19.599164: E tensorflow/stream_executor/cuda/cuda_driver.cc:351] failed call to cuInit: UNKNOWN ERROR (303)\n",
      "2023-01-07 08:28:19.599178: I tensorflow/stream_executor/cuda/cuda_diagnostics.cc:163] no NVIDIA GPU device is present: /dev/nvidia0 does not exist\n",
      "2023-01-07 08:28:19.599292: I tensorflow/core/platform/cpu_feature_guard.cc:142] Your CPU supports instructions that this TensorFlow binary was not compiled to use: AVX2 FMA\n",
      "2023-01-07 08:28:19.626032: I tensorflow/core/platform/profile_utils/cpu_utils.cc:94] CPU Frequency: 3693085000 Hz\n",
      "2023-01-07 08:28:19.626672: I tensorflow/compiler/xla/service/service.cc:168] XLA service 0x4585f60 initialized for platform Host (this does not guarantee that XLA will be used). Devices:\n",
      "2023-01-07 08:28:19.626689: I tensorflow/compiler/xla/service/service.cc:176]   StreamExecutor device (0): Host, Default Version\n",
      "2023-01-07 08:28:19.668315: W tensorflow/core/framework/cpu_allocator_impl.cc:81] Allocation of 376320000 exceeds 10% of system memory.\n",
      "Training...\n",
      "Train on 60000 samples\n",
      "Epoch 1/5\n",
      "12800/60000 [=====>........................] - ETA: 1s - loss: 0.5463 - accuracy: 0.8425\n",
      "28992/60000 [=============>................] - ETA: 0s - loss: 0.3987 - accuracy: 0.88\n",
      "45504/60000 [=====================>........] - ETA: 0s - loss: 0.3415 - accuracy: 0.90\n",
      "60000/60000 [============================>.] - ETA: 0s - loss: 0.3015 - accuracy: 0.91\n",
      "=========================] - 1s 21us/sample - loss: 0.3001 - accuracy: 0.9134\n",
      "Epoch 2/5\n",
      "13472/60000 [=====>........................] - ETA: 0s - loss: 0.1595 - accuracy: 0.95\n",
      "30208/60000 [==============>...............] - ETA: 0s - loss: 0.1539 - accuracy: 0.95\n",
      "45952/60000 [=====================>........] - ETA: 0s - loss: 0.1505 - accuracy: 0.95\n",
      "60000/60000 [============================>.] - ETA: 0s - loss: 0.1451 - accuracy: 0.95\n",
      "===================] - 1s 19us/sample - loss: 0.1453 - accuracy: 0.9569\n",
      "Epoch 3/5\n",
      "12800/60000 [=====>........................] - ETA: 0s - loss: 0.1100 - accuracy: 0.96\n",
      "29376/60000 [=============>................] - ETA: 0s - loss: 0.1100 - accuracy: 0.96\n",
      "45312/60000 [=====================>........] - ETA: 0s - loss: 0.1096 - accuracy: 0.96\n",
      "60000/60000 [============================>.] - ETA: 0s - loss: 0.1095 - accuracy: 0.96\n",
      "===================] - 1s 19us/sample - loss: 0.1094 - accuracy: 0.9669\n",
      "Epoch 4/5\n",
      "13984/60000 [=====>........................] - ETA: 0s - loss: 0.0919 - accuracy: 0.97\n",
      "30464/60000 [==============>...............] - ETA: 0s - loss: 0.0891 - accuracy: 0.97\n",
      "46624/60000 [======================>.......] - ETA: 0s - loss: 0.0910 - accuracy: 0.97\n",
      "60000/60000 [============================>.] - ETA: 0s - loss: 0.0903 - accuracy: 0.97\n",
      "===================] - 1s 18us/sample - loss: 0.0902 - accuracy: 0.9718\n",
      "Epoch 5/5\n",
      "13664/60000 [=====>........................] - ETA: 0s - loss: 0.0710 - accuracy: 0.97\n",
      "30080/60000 [==============>...............] - ETA: 0s - loss: 0.0741 - accuracy: 0.97\n",
      "46912/60000 [======================>.......] - ETA: 0s - loss: 0.0744 - accuracy: 0.97\n",
      "60000/60000 [============================>.] - ETA: 0s - loss: 0.0752 - accuracy: 0.97\n",
      "===================] - 1s 19us/sample - loss: 0.0751 - accuracy: 0.9761\n",
      "Average test loss:  0.14402135178695122\n"
     ]
    },
    {
     "data": {
      "text/plain": [
       "(<kubeflow.fairing.preprocessors.base.BasePreProcessor at 0x7fc67416e130>,\n",
       " <kubeflow.fairing.builders.cluster.cluster.ClusterBuilder at 0x7fc67419e4f0>,\n",
       " <kubeflow.fairing.deployers.job.job.Job at 0x7fc67419e2e0>)"
      ]
     },
     "execution_count": 2,
     "metadata": {},
     "output_type": "execute_result"
    }
   ],
   "source": [
    "import uuid\n",
    "from kubeflow import fairing\n",
    "\n",
    "# docker hub username\n",
    "CONTAINER_REGISTRY = 'seokii'\n",
    "\n",
    "# kubectl get namespace로 확인가능\n",
    "namespace = 'kubeflow-user-example-com'\n",
    "\n",
    "# job이름 지정\n",
    "job_name = f'mnist-job-{uuid.uuid4().hex[:4]}'\n",
    "\n",
    "# command 정의\n",
    "command=[\"python\", \"train.py\"]\n",
    "\n",
    "# output_map 정의\n",
    "output_map = {\n",
    "    \"dockerfile\": \"dockerfile\",\n",
    "    \"train.py\": \"train.py\"\n",
    "}\n",
    "\n",
    "# 페어링 전처리기 정의\n",
    "fairing.config.set_preprocessor('python', command=command, path_prefix=\"/app\", output_map=output_map)\n",
    "\n",
    "# cluster builder ContextSource를 minio로 정의\n",
    "s3_endpoint = 'minio-service.kubeflow.svc.cluster.local:9000'\n",
    "minio_endpoint = \"http://\"+s3_endpoint\n",
    "minio_username = \"minio\"\n",
    "minio_key = \"minio123\"\n",
    "minio_region = \"us-east-1\"\n",
    "\n",
    "# minio_context사용\n",
    "from kubeflow.fairing.builders.cluster.minio_context import MinioContextSource\n",
    "minio_context_source = MinioContextSource(endpoint_url=minio_endpoint, minio_secret=minio_username, minio_secret_key=minio_key, region_name=minio_region)\n",
    "\n",
    "# 페어링 빌더 정의\n",
    "fairing.config.set_builder('cluster', registry=CONTAINER_REGISTRY, image_name=\"train\", dockerfile_path=\"dockerfile\",\n",
    "                           context_source=minio_context_source)\n",
    "\n",
    "# 페어링 배포 정의\n",
    "fairing.config.set_deployer('job', namespace=namespace, job_name=job_name, cleanup=False, stream_log=True)\n",
    "\n",
    "# 페어링 실행\n",
    "fairing.config.run()"
   ]
  },
  {
   "cell_type": "code",
   "execution_count": null,
   "id": "253f4fee-dce7-4316-9e13-93e50bab8e2b",
   "metadata": {},
   "outputs": [],
   "source": []
  }
 ],
 "metadata": {
  "kernelspec": {
   "display_name": "Python 3 (ipykernel)",
   "language": "python",
   "name": "python3"
  },
  "language_info": {
   "codemirror_mode": {
    "name": "ipython",
    "version": 3
   },
   "file_extension": ".py",
   "mimetype": "text/x-python",
   "name": "python",
   "nbconvert_exporter": "python",
   "pygments_lexer": "ipython3",
   "version": "3.8.10"
  }
 },
 "nbformat": 4,
 "nbformat_minor": 5
}
